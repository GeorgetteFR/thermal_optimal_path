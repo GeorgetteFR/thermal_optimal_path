{
 "cells": [
  {
   "cell_type": "code",
   "execution_count": 1,
   "metadata": {},
   "outputs": [],
   "source": [
    "import sys\n",
    "import os\n",
    "\n",
    "parent_dir = os.path.abspath(os.path.join(os.getcwd(), \"..\"))\n",
    "sys.path.append(parent_dir)"
   ]
  },
  {
   "cell_type": "code",
   "execution_count": 2,
   "metadata": {},
   "outputs": [],
   "source": [
    "import numpy as np\n",
    "import pandas as pd\n",
    "import os\n",
    "from helpers import load_parquet, standardize\n",
    "from thermal_optimal_path.lattice import partition_function\n",
    "from thermal_optimal_path.statistics import average_path\n",
    "from datetime import datetime, timedelta\n",
    "\n",
    "# Define the function to compute the weighted average\n",
    "\n",
    "def compute_weighted_avg(year, month, day, crypto1, crypto2, previous_day_tail=None, temperature=0.1, minute=40):\n",
    "    base_path = f'/home/elantonino/Big data project/data'\n",
    "    crypto1_path = f'{base_path}/{crypto1}USDT/{crypto1}USDT-1s-{year}-{month}-{day}.parquet'\n",
    "    crypto2_path = f'{base_path}/{crypto2}USDT/{crypto2}USDT-1s-{year}-{month}-{day}.parquet'\n",
    "\n",
    "    crypto1_data = load_parquet(crypto1_path)\n",
    "    crypto2_data = load_parquet(crypto2_path)\n",
    "\n",
    "    crypto1_prices_std = standardize(crypto1_data['Open'])\n",
    "    crypto2_prices_std = standardize(crypto2_data['Open'])\n",
    "\n",
    "    if previous_day_tail is not None:\n",
    "        crypto1_prices_std = np.concatenate((previous_day_tail['crypto1'], crypto1_prices_std))\n",
    "        crypto2_prices_std = np.concatenate((previous_day_tail['crypto2'], crypto2_prices_std))\n",
    "\n",
    "    total = len(crypto1_prices_std)\n",
    "    weights = np.exp(np.linspace(0, 2, minute))\n",
    "    weights /= weights.sum()\n",
    "\n",
    "    df_avg = []\n",
    "    for i in range(total - minute):\n",
    "        end_time = i + minute\n",
    "        crypto1 = crypto1_prices_std[i:end_time]\n",
    "        crypto2 = crypto2_prices_std[i:end_time]\n",
    "\n",
    "        g = partition_function(crypto1, crypto2, temperature)\n",
    "        avg_path = average_path(g)[::2]\n",
    "        weighted_avg = np.dot(avg_path, weights)\n",
    "        df_avg.append(weighted_avg)\n",
    "\n",
    "    return df_avg, {'crypto1': crypto1_prices_std[-minute:], 'crypto2': crypto2_prices_std[-minute:]}\n",
    "\n",
    "def process_all_days(year):\n",
    "    start_date = datetime(year, 1, 17)\n",
    "    end_date = datetime(year, 12, 31)\n",
    "    current_date = start_date\n",
    "\n",
    "    output_folder = '/home/elantonino/Big data project/lead_lags'\n",
    "    os.makedirs(output_folder, exist_ok=True)\n",
    "\n",
    "    previous_day_tail = None\n",
    "\n",
    "    while current_date <= end_date:\n",
    "        day = current_date.day\n",
    "        month = current_date.month\n",
    "        day_str = f\"{day:02d}\"\n",
    "        month_str = f\"{month:02d}\"\n",
    "\n",
    "        print(f\"Processing {year}-{month_str}-{day_str} for BTCUSDT and ETHUSDT\")\n",
    "        df_avg, current_day_tail = compute_weighted_avg(year, month_str, day_str, 'BTCUSDT', 'ETHUSDT', previous_day_tail)\n",
    "        \n",
    "        if df_avg:\n",
    "            daily_df = pd.DataFrame({\n",
    "                'Date': [current_date] * len(df_avg),\n",
    "                'WeightedAvg': df_avg\n",
    "            })\n",
    "            output_path = f'{output_folder}/weighted_avg_{year}_{month_str}_{day_str}.parquet'\n",
    "            daily_df.to_parquet(output_path, index=False)\n",
    "            print(f\"Results saved to {output_path}\")\n",
    "\n",
    "        previous_day_tail = current_day_tail\n",
    "\n",
    "        current_date += timedelta(days=1)\n"
   ]
  },
  {
   "cell_type": "code",
   "execution_count": 3,
   "metadata": {},
   "outputs": [
    {
     "ename": "OSError",
     "evalue": "[Errno 45] Operation not supported: '/home/elantonino'",
     "output_type": "error",
     "traceback": [
      "\u001b[0;31m---------------------------------------------------------------------------\u001b[0m",
      "\u001b[0;31mOSError\u001b[0m                                   Traceback (most recent call last)",
      "Cell \u001b[0;32mIn[3], line 1\u001b[0m\n\u001b[0;32m----> 1\u001b[0m \u001b[43mprocess_all_days\u001b[49m\u001b[43m(\u001b[49m\u001b[38;5;241;43m2024\u001b[39;49m\u001b[43m)\u001b[49m\n",
      "Cell \u001b[0;32mIn[2], line 49\u001b[0m, in \u001b[0;36mprocess_all_days\u001b[0;34m(year)\u001b[0m\n\u001b[1;32m     46\u001b[0m current_date \u001b[38;5;241m=\u001b[39m start_date\n\u001b[1;32m     48\u001b[0m output_folder \u001b[38;5;241m=\u001b[39m \u001b[38;5;124m'\u001b[39m\u001b[38;5;124m/home/elantonino/Big data project/lead_lags\u001b[39m\u001b[38;5;124m'\u001b[39m\n\u001b[0;32m---> 49\u001b[0m \u001b[43mos\u001b[49m\u001b[38;5;241;43m.\u001b[39;49m\u001b[43mmakedirs\u001b[49m\u001b[43m(\u001b[49m\u001b[43moutput_folder\u001b[49m\u001b[43m,\u001b[49m\u001b[43m \u001b[49m\u001b[43mexist_ok\u001b[49m\u001b[38;5;241;43m=\u001b[39;49m\u001b[38;5;28;43;01mTrue\u001b[39;49;00m\u001b[43m)\u001b[49m\n\u001b[1;32m     51\u001b[0m previous_day_tail \u001b[38;5;241m=\u001b[39m \u001b[38;5;28;01mNone\u001b[39;00m\n\u001b[1;32m     53\u001b[0m \u001b[38;5;28;01mwhile\u001b[39;00m current_date \u001b[38;5;241m<\u001b[39m\u001b[38;5;241m=\u001b[39m end_date:\n",
      "File \u001b[0;32m~/anaconda3/envs/finance/lib/python3.9/os.py:215\u001b[0m, in \u001b[0;36mmakedirs\u001b[0;34m(name, mode, exist_ok)\u001b[0m\n\u001b[1;32m    213\u001b[0m \u001b[38;5;28;01mif\u001b[39;00m head \u001b[38;5;129;01mand\u001b[39;00m tail \u001b[38;5;129;01mand\u001b[39;00m \u001b[38;5;129;01mnot\u001b[39;00m path\u001b[38;5;241m.\u001b[39mexists(head):\n\u001b[1;32m    214\u001b[0m     \u001b[38;5;28;01mtry\u001b[39;00m:\n\u001b[0;32m--> 215\u001b[0m         \u001b[43mmakedirs\u001b[49m\u001b[43m(\u001b[49m\u001b[43mhead\u001b[49m\u001b[43m,\u001b[49m\u001b[43m \u001b[49m\u001b[43mexist_ok\u001b[49m\u001b[38;5;241;43m=\u001b[39;49m\u001b[43mexist_ok\u001b[49m\u001b[43m)\u001b[49m\n\u001b[1;32m    216\u001b[0m     \u001b[38;5;28;01mexcept\u001b[39;00m \u001b[38;5;167;01mFileExistsError\u001b[39;00m:\n\u001b[1;32m    217\u001b[0m         \u001b[38;5;66;03m# Defeats race condition when another thread created the path\u001b[39;00m\n\u001b[1;32m    218\u001b[0m         \u001b[38;5;28;01mpass\u001b[39;00m\n",
      "File \u001b[0;32m~/anaconda3/envs/finance/lib/python3.9/os.py:215\u001b[0m, in \u001b[0;36mmakedirs\u001b[0;34m(name, mode, exist_ok)\u001b[0m\n\u001b[1;32m    213\u001b[0m \u001b[38;5;28;01mif\u001b[39;00m head \u001b[38;5;129;01mand\u001b[39;00m tail \u001b[38;5;129;01mand\u001b[39;00m \u001b[38;5;129;01mnot\u001b[39;00m path\u001b[38;5;241m.\u001b[39mexists(head):\n\u001b[1;32m    214\u001b[0m     \u001b[38;5;28;01mtry\u001b[39;00m:\n\u001b[0;32m--> 215\u001b[0m         \u001b[43mmakedirs\u001b[49m\u001b[43m(\u001b[49m\u001b[43mhead\u001b[49m\u001b[43m,\u001b[49m\u001b[43m \u001b[49m\u001b[43mexist_ok\u001b[49m\u001b[38;5;241;43m=\u001b[39;49m\u001b[43mexist_ok\u001b[49m\u001b[43m)\u001b[49m\n\u001b[1;32m    216\u001b[0m     \u001b[38;5;28;01mexcept\u001b[39;00m \u001b[38;5;167;01mFileExistsError\u001b[39;00m:\n\u001b[1;32m    217\u001b[0m         \u001b[38;5;66;03m# Defeats race condition when another thread created the path\u001b[39;00m\n\u001b[1;32m    218\u001b[0m         \u001b[38;5;28;01mpass\u001b[39;00m\n",
      "File \u001b[0;32m~/anaconda3/envs/finance/lib/python3.9/os.py:225\u001b[0m, in \u001b[0;36mmakedirs\u001b[0;34m(name, mode, exist_ok)\u001b[0m\n\u001b[1;32m    223\u001b[0m         \u001b[38;5;28;01mreturn\u001b[39;00m\n\u001b[1;32m    224\u001b[0m \u001b[38;5;28;01mtry\u001b[39;00m:\n\u001b[0;32m--> 225\u001b[0m     \u001b[43mmkdir\u001b[49m\u001b[43m(\u001b[49m\u001b[43mname\u001b[49m\u001b[43m,\u001b[49m\u001b[43m \u001b[49m\u001b[43mmode\u001b[49m\u001b[43m)\u001b[49m\n\u001b[1;32m    226\u001b[0m \u001b[38;5;28;01mexcept\u001b[39;00m \u001b[38;5;167;01mOSError\u001b[39;00m:\n\u001b[1;32m    227\u001b[0m     \u001b[38;5;66;03m# Cannot rely on checking for EEXIST, since the operating system\u001b[39;00m\n\u001b[1;32m    228\u001b[0m     \u001b[38;5;66;03m# could give priority to other errors like EACCES or EROFS\u001b[39;00m\n\u001b[1;32m    229\u001b[0m     \u001b[38;5;28;01mif\u001b[39;00m \u001b[38;5;129;01mnot\u001b[39;00m exist_ok \u001b[38;5;129;01mor\u001b[39;00m \u001b[38;5;129;01mnot\u001b[39;00m path\u001b[38;5;241m.\u001b[39misdir(name):\n",
      "\u001b[0;31mOSError\u001b[0m: [Errno 45] Operation not supported: '/home/elantonino'"
     ]
    }
   ],
   "source": [
    "process_all_days(2024)"
   ]
  },
  {
   "cell_type": "code",
   "execution_count": 18,
   "metadata": {},
   "outputs": [],
   "source": [
    "file_path = f'/home/elantonino/Big data project/lead_lags/weighted_avg_2024_01_18.parquet'\n",
    "\n",
    "data = pd.read_parquet(file_path)"
   ]
  },
  {
   "cell_type": "code",
   "execution_count": 19,
   "metadata": {},
   "outputs": [
    {
     "data": {
      "text/html": [
       "<div>\n",
       "<style scoped>\n",
       "    .dataframe tbody tr th:only-of-type {\n",
       "        vertical-align: middle;\n",
       "    }\n",
       "\n",
       "    .dataframe tbody tr th {\n",
       "        vertical-align: top;\n",
       "    }\n",
       "\n",
       "    .dataframe thead th {\n",
       "        text-align: right;\n",
       "    }\n",
       "</style>\n",
       "<table border=\"1\" class=\"dataframe\">\n",
       "  <thead>\n",
       "    <tr style=\"text-align: right;\">\n",
       "      <th></th>\n",
       "      <th>Date</th>\n",
       "      <th>WeightedAvg</th>\n",
       "    </tr>\n",
       "  </thead>\n",
       "  <tbody>\n",
       "    <tr>\n",
       "      <th>0</th>\n",
       "      <td>2024-01-18</td>\n",
       "      <td>-1.061607</td>\n",
       "    </tr>\n",
       "    <tr>\n",
       "      <th>1</th>\n",
       "      <td>2024-01-18</td>\n",
       "      <td>-0.798687</td>\n",
       "    </tr>\n",
       "    <tr>\n",
       "      <th>2</th>\n",
       "      <td>2024-01-18</td>\n",
       "      <td>-0.406758</td>\n",
       "    </tr>\n",
       "    <tr>\n",
       "      <th>3</th>\n",
       "      <td>2024-01-18</td>\n",
       "      <td>0.137148</td>\n",
       "    </tr>\n",
       "    <tr>\n",
       "      <th>4</th>\n",
       "      <td>2024-01-18</td>\n",
       "      <td>0.511313</td>\n",
       "    </tr>\n",
       "    <tr>\n",
       "      <th>...</th>\n",
       "      <td>...</td>\n",
       "      <td>...</td>\n",
       "    </tr>\n",
       "    <tr>\n",
       "      <th>86395</th>\n",
       "      <td>2024-01-18</td>\n",
       "      <td>-1.698173</td>\n",
       "    </tr>\n",
       "    <tr>\n",
       "      <th>86396</th>\n",
       "      <td>2024-01-18</td>\n",
       "      <td>-1.685875</td>\n",
       "    </tr>\n",
       "    <tr>\n",
       "      <th>86397</th>\n",
       "      <td>2024-01-18</td>\n",
       "      <td>-1.664874</td>\n",
       "    </tr>\n",
       "    <tr>\n",
       "      <th>86398</th>\n",
       "      <td>2024-01-18</td>\n",
       "      <td>-1.634514</td>\n",
       "    </tr>\n",
       "    <tr>\n",
       "      <th>86399</th>\n",
       "      <td>2024-01-18</td>\n",
       "      <td>-1.601181</td>\n",
       "    </tr>\n",
       "  </tbody>\n",
       "</table>\n",
       "<p>86400 rows × 2 columns</p>\n",
       "</div>"
      ],
      "text/plain": [
       "            Date  WeightedAvg\n",
       "0     2024-01-18    -1.061607\n",
       "1     2024-01-18    -0.798687\n",
       "2     2024-01-18    -0.406758\n",
       "3     2024-01-18     0.137148\n",
       "4     2024-01-18     0.511313\n",
       "...          ...          ...\n",
       "86395 2024-01-18    -1.698173\n",
       "86396 2024-01-18    -1.685875\n",
       "86397 2024-01-18    -1.664874\n",
       "86398 2024-01-18    -1.634514\n",
       "86399 2024-01-18    -1.601181\n",
       "\n",
       "[86400 rows x 2 columns]"
      ]
     },
     "execution_count": 19,
     "metadata": {},
     "output_type": "execute_result"
    }
   ],
   "source": [
    "data"
   ]
  },
  {
   "cell_type": "code",
   "execution_count": 9,
   "metadata": {},
   "outputs": [
    {
     "data": {
      "text/plain": [
       "86400"
      ]
     },
     "execution_count": 9,
     "metadata": {},
     "output_type": "execute_result"
    }
   ],
   "source": [
    "24*3600"
   ]
  }
 ],
 "metadata": {
  "kernelspec": {
   "display_name": "finance",
   "language": "python",
   "name": "python3"
  },
  "language_info": {
   "codemirror_mode": {
    "name": "ipython",
    "version": 3
   },
   "file_extension": ".py",
   "mimetype": "text/x-python",
   "name": "python",
   "nbconvert_exporter": "python",
   "pygments_lexer": "ipython3",
   "version": "3.9.18"
  }
 },
 "nbformat": 4,
 "nbformat_minor": 2
}
