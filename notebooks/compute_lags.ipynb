{
 "cells": [
  {
   "cell_type": "code",
   "execution_count": 1,
   "metadata": {},
   "outputs": [],
   "source": [
    "import sys\n",
    "import os\n",
    "\n",
    "parent_dir = os.path.abspath(os.path.join(os.getcwd(), \"..\"))\n",
    "sys.path.append(parent_dir)"
   ]
  },
  {
   "cell_type": "code",
   "execution_count": 14,
   "metadata": {},
   "outputs": [],
   "source": [
    "import numpy as np\n",
    "import pandas as pd\n",
    "import os\n",
    "from helpers import load_parquet, standardize\n",
    "from thermal_optimal_path.lattice import partition_function\n",
    "from thermal_optimal_path.statistics import average_path\n",
    "from datetime import datetime, timedelta\n",
    "\n",
    "# Define the function to compute the weighted average\n",
    "\n",
    "def compute_weighted_avg(year, month, day, crypto1, crypto2, previous_day_tail=None, temperature=0.1, minute=40):\n",
    "    base_path = f'/home/elantonino/Big data project/data'\n",
    "    crypto1_path = f'{base_path}/{crypto1}USDT/{crypto1}USDT-1s-{year}-{month}-{day}.parquet'\n",
    "    crypto2_path = f'{base_path}/{crypto2}USDT/{crypto2}USDT-1s-{year}-{month}-{day}.parquet'\n",
    "\n",
    "    crypto1_data = load_parquet(crypto1_path)\n",
    "    crypto2_data = load_parquet(crypto2_path)\n",
    "\n",
    "    crypto1_prices_std = standardize(crypto1_data['Open'])\n",
    "    crypto2_prices_std = standardize(crypto2_data['Open'])\n",
    "\n",
    "    if previous_day_tail is not None:\n",
    "        crypto1_prices_std = np.concatenate((previous_day_tail['crypto1'], crypto1_prices_std))\n",
    "        crypto2_prices_std = np.concatenate((previous_day_tail['crypto2'], crypto2_prices_std))\n",
    "\n",
    "    total = len(crypto1_prices_std)\n",
    "    weights = np.exp(np.linspace(0, 2, minute))\n",
    "    weights /= weights.sum()\n",
    "\n",
    "    df_avg = []\n",
    "    for i in range(total - minute):\n",
    "        end_time = i + minute\n",
    "        crypto1 = crypto1_prices_std[i:end_time]\n",
    "        crypto2 = crypto2_prices_std[i:end_time]\n",
    "\n",
    "        g = partition_function(crypto1, crypto2, temperature)\n",
    "        avg_path = average_path(g)[::2]\n",
    "        weighted_avg = np.dot(avg_path, weights)\n",
    "        df_avg.append(weighted_avg)\n",
    "\n",
    "    return df_avg, {'crypto1': crypto1_prices_std[-minute:], 'crypto2': crypto2_prices_std[-minute:]}\n",
    "\n",
    "def process_all_days(year):\n",
    "    start_date = datetime(year, 1, 17)\n",
    "    end_date = datetime(year, 12, 31)\n",
    "    current_date = start_date\n",
    "\n",
    "    output_folder = '/home/elantonino/Big data project/lead_lags'\n",
    "    os.makedirs(output_folder, exist_ok=True)\n",
    "\n",
    "    previous_day_tail = None\n",
    "\n",
    "    while current_date <= end_date:\n",
    "        day = current_date.day\n",
    "        month = current_date.month\n",
    "        day_str = f\"{day:02d}\"\n",
    "        month_str = f\"{month:02d}\"\n",
    "\n",
    "        print(f\"Processing {year}-{month_str}-{day_str} for BTCUSDT and ETHUSDT\")\n",
    "        df_avg, current_day_tail = compute_weighted_avg(year, month_str, day_str, 'BTCUSDT', 'ETHUSDT', previous_day_tail)\n",
    "\n",
    "        if df_avg:\n",
    "            daily_df = pd.DataFrame({\n",
    "                'Date': [current_date] * len(df_avg),\n",
    "                'WeightedAvg': df_avg\n",
    "            })\n",
    "            output_path = f'{output_folder}/weighted_avg_{year}_{month_str}_{day_str}.parquet'\n",
    "            daily_df.to_parquet(output_path, index=False)\n",
    "            print(f\"Results saved to {output_path}\")\n",
    "\n",
    "        previous_day_tail = current_day_tail\n",
    "\n",
    "        current_date += timedelta(days=1)\n"
   ]
  },
  {
   "cell_type": "code",
   "execution_count": 15,
   "metadata": {},
   "outputs": [
    {
     "name": "stdout",
     "output_type": "stream",
     "text": [
      "Processing 2024-01-17 for BTCUSDT and ETHUSDT\n",
      "Results saved to /home/elantonino/Big data project/lead_lags/weighted_avg_2024_01_17.parquet\n",
      "Processing 2024-01-18 for BTCUSDT and ETHUSDT\n",
      "Results saved to /home/elantonino/Big data project/lead_lags/weighted_avg_2024_01_18.parquet\n",
      "Processing 2024-01-19 for BTCUSDT and ETHUSDT\n"
     ]
    },
    {
     "ename": "KeyboardInterrupt",
     "evalue": "",
     "output_type": "error",
     "traceback": [
      "\u001b[0;31m---------------------------------------------------------------------------\u001b[0m",
      "\u001b[0;31mKeyboardInterrupt\u001b[0m                         Traceback (most recent call last)",
      "Cell \u001b[0;32mIn[15], line 1\u001b[0m\n\u001b[0;32m----> 1\u001b[0m \u001b[43mprocess_all_days\u001b[49m\u001b[43m(\u001b[49m\u001b[38;5;241;43m2024\u001b[39;49m\u001b[43m)\u001b[49m\n",
      "Cell \u001b[0;32mIn[14], line 60\u001b[0m, in \u001b[0;36mprocess_all_days\u001b[0;34m(year)\u001b[0m\n\u001b[1;32m     57\u001b[0m month_str \u001b[38;5;241m=\u001b[39m \u001b[38;5;124mf\u001b[39m\u001b[38;5;124m\"\u001b[39m\u001b[38;5;132;01m{\u001b[39;00mmonth\u001b[38;5;132;01m:\u001b[39;00m\u001b[38;5;124m02d\u001b[39m\u001b[38;5;132;01m}\u001b[39;00m\u001b[38;5;124m\"\u001b[39m\n\u001b[1;32m     59\u001b[0m \u001b[38;5;28mprint\u001b[39m(\u001b[38;5;124mf\u001b[39m\u001b[38;5;124m\"\u001b[39m\u001b[38;5;124mProcessing \u001b[39m\u001b[38;5;132;01m{\u001b[39;00myear\u001b[38;5;132;01m}\u001b[39;00m\u001b[38;5;124m-\u001b[39m\u001b[38;5;132;01m{\u001b[39;00mmonth_str\u001b[38;5;132;01m}\u001b[39;00m\u001b[38;5;124m-\u001b[39m\u001b[38;5;132;01m{\u001b[39;00mday_str\u001b[38;5;132;01m}\u001b[39;00m\u001b[38;5;124m for BTCUSDT and ETHUSDT\u001b[39m\u001b[38;5;124m\"\u001b[39m)\n\u001b[0;32m---> 60\u001b[0m df_avg, current_day_tail \u001b[38;5;241m=\u001b[39m \u001b[43mcompute_weighted_avg\u001b[49m\u001b[43m(\u001b[49m\u001b[43myear\u001b[49m\u001b[43m,\u001b[49m\u001b[43m \u001b[49m\u001b[43mmonth_str\u001b[49m\u001b[43m,\u001b[49m\u001b[43m \u001b[49m\u001b[43mday_str\u001b[49m\u001b[43m,\u001b[49m\u001b[43m \u001b[49m\u001b[43m(\u001b[49m\u001b[38;5;124;43m'\u001b[39;49m\u001b[38;5;124;43mBTCUSDT\u001b[39;49m\u001b[38;5;124;43m'\u001b[39;49m\u001b[43m,\u001b[49m\u001b[43m \u001b[49m\u001b[38;5;124;43m'\u001b[39;49m\u001b[38;5;124;43mETHUSDT\u001b[39;49m\u001b[38;5;124;43m'\u001b[39;49m\u001b[43m)\u001b[49m\u001b[43m,\u001b[49m\u001b[43m \u001b[49m\u001b[43mprevious_day_tail\u001b[49m\u001b[43m)\u001b[49m\n\u001b[1;32m     62\u001b[0m \u001b[38;5;28;01mif\u001b[39;00m df_avg:\n\u001b[1;32m     63\u001b[0m     daily_df \u001b[38;5;241m=\u001b[39m pd\u001b[38;5;241m.\u001b[39mDataFrame({\n\u001b[1;32m     64\u001b[0m         \u001b[38;5;124m'\u001b[39m\u001b[38;5;124mDate\u001b[39m\u001b[38;5;124m'\u001b[39m: [current_date] \u001b[38;5;241m*\u001b[39m \u001b[38;5;28mlen\u001b[39m(df_avg),\n\u001b[1;32m     65\u001b[0m         \u001b[38;5;124m'\u001b[39m\u001b[38;5;124mWeightedAvg\u001b[39m\u001b[38;5;124m'\u001b[39m: df_avg\n\u001b[1;32m     66\u001b[0m     })\n",
      "Cell \u001b[0;32mIn[14], line 37\u001b[0m, in \u001b[0;36mcompute_weighted_avg\u001b[0;34m(year, month, day, pair, previous_day_tail, temperature, minute)\u001b[0m\n\u001b[1;32m     34\u001b[0m eth \u001b[38;5;241m=\u001b[39m eth_prices_std[i:end_time]\n\u001b[1;32m     36\u001b[0m g \u001b[38;5;241m=\u001b[39m partition_function(btc, eth, temperature)\n\u001b[0;32m---> 37\u001b[0m avg_path \u001b[38;5;241m=\u001b[39m \u001b[43maverage_path\u001b[49m\u001b[43m(\u001b[49m\u001b[43mg\u001b[49m\u001b[43m)\u001b[49m[::\u001b[38;5;241m2\u001b[39m]\n\u001b[1;32m     38\u001b[0m weighted_avg \u001b[38;5;241m=\u001b[39m np\u001b[38;5;241m.\u001b[39mdot(avg_path, weights)\n\u001b[1;32m     39\u001b[0m df_avg\u001b[38;5;241m.\u001b[39mappend(weighted_avg)\n",
      "File \u001b[0;32m~/Anaconda3/envs/gt/lib/python3.12/site-packages/numba/core/serialize.py:30\u001b[0m, in \u001b[0;36m_numba_unpickle\u001b[0;34m(address, bytedata, hashed)\u001b[0m\n\u001b[1;32m     26\u001b[0m \u001b[38;5;66;03m# Keep unpickled object via `numba_unpickle` alive.\u001b[39;00m\n\u001b[1;32m     27\u001b[0m _unpickled_memo \u001b[38;5;241m=\u001b[39m {}\n\u001b[0;32m---> 30\u001b[0m \u001b[38;5;28;01mdef\u001b[39;00m \u001b[38;5;21m_numba_unpickle\u001b[39m(address, bytedata, hashed):\n\u001b[1;32m     31\u001b[0m \u001b[38;5;250m    \u001b[39m\u001b[38;5;124;03m\"\"\"Used by `numba_unpickle` from _helperlib.c\u001b[39;00m\n\u001b[1;32m     32\u001b[0m \n\u001b[1;32m     33\u001b[0m \u001b[38;5;124;03m    Parameters\u001b[39;00m\n\u001b[0;32m   (...)\u001b[0m\n\u001b[1;32m     42\u001b[0m \u001b[38;5;124;03m        unpickled object\u001b[39;00m\n\u001b[1;32m     43\u001b[0m \u001b[38;5;124;03m    \"\"\"\u001b[39;00m\n\u001b[1;32m     44\u001b[0m     key \u001b[38;5;241m=\u001b[39m (address, hashed)\n",
      "\u001b[0;31mKeyboardInterrupt\u001b[0m: "
     ]
    }
   ],
   "source": [
    "process_all_days(2024)"
   ]
  },
  {
   "cell_type": "code",
   "execution_count": 18,
   "metadata": {},
   "outputs": [],
   "source": [
    "file_path = f'/home/elantonino/Big data project/lead_lags/weighted_avg_2024_01_18.parquet'\n",
    "\n",
    "data = pd.read_parquet(file_path)"
   ]
  },
  {
   "cell_type": "code",
   "execution_count": 19,
   "metadata": {},
   "outputs": [
    {
     "data": {
      "text/html": [
       "<div>\n",
       "<style scoped>\n",
       "    .dataframe tbody tr th:only-of-type {\n",
       "        vertical-align: middle;\n",
       "    }\n",
       "\n",
       "    .dataframe tbody tr th {\n",
       "        vertical-align: top;\n",
       "    }\n",
       "\n",
       "    .dataframe thead th {\n",
       "        text-align: right;\n",
       "    }\n",
       "</style>\n",
       "<table border=\"1\" class=\"dataframe\">\n",
       "  <thead>\n",
       "    <tr style=\"text-align: right;\">\n",
       "      <th></th>\n",
       "      <th>Date</th>\n",
       "      <th>WeightedAvg</th>\n",
       "    </tr>\n",
       "  </thead>\n",
       "  <tbody>\n",
       "    <tr>\n",
       "      <th>0</th>\n",
       "      <td>2024-01-18</td>\n",
       "      <td>-1.061607</td>\n",
       "    </tr>\n",
       "    <tr>\n",
       "      <th>1</th>\n",
       "      <td>2024-01-18</td>\n",
       "      <td>-0.798687</td>\n",
       "    </tr>\n",
       "    <tr>\n",
       "      <th>2</th>\n",
       "      <td>2024-01-18</td>\n",
       "      <td>-0.406758</td>\n",
       "    </tr>\n",
       "    <tr>\n",
       "      <th>3</th>\n",
       "      <td>2024-01-18</td>\n",
       "      <td>0.137148</td>\n",
       "    </tr>\n",
       "    <tr>\n",
       "      <th>4</th>\n",
       "      <td>2024-01-18</td>\n",
       "      <td>0.511313</td>\n",
       "    </tr>\n",
       "    <tr>\n",
       "      <th>...</th>\n",
       "      <td>...</td>\n",
       "      <td>...</td>\n",
       "    </tr>\n",
       "    <tr>\n",
       "      <th>86395</th>\n",
       "      <td>2024-01-18</td>\n",
       "      <td>-1.698173</td>\n",
       "    </tr>\n",
       "    <tr>\n",
       "      <th>86396</th>\n",
       "      <td>2024-01-18</td>\n",
       "      <td>-1.685875</td>\n",
       "    </tr>\n",
       "    <tr>\n",
       "      <th>86397</th>\n",
       "      <td>2024-01-18</td>\n",
       "      <td>-1.664874</td>\n",
       "    </tr>\n",
       "    <tr>\n",
       "      <th>86398</th>\n",
       "      <td>2024-01-18</td>\n",
       "      <td>-1.634514</td>\n",
       "    </tr>\n",
       "    <tr>\n",
       "      <th>86399</th>\n",
       "      <td>2024-01-18</td>\n",
       "      <td>-1.601181</td>\n",
       "    </tr>\n",
       "  </tbody>\n",
       "</table>\n",
       "<p>86400 rows × 2 columns</p>\n",
       "</div>"
      ],
      "text/plain": [
       "            Date  WeightedAvg\n",
       "0     2024-01-18    -1.061607\n",
       "1     2024-01-18    -0.798687\n",
       "2     2024-01-18    -0.406758\n",
       "3     2024-01-18     0.137148\n",
       "4     2024-01-18     0.511313\n",
       "...          ...          ...\n",
       "86395 2024-01-18    -1.698173\n",
       "86396 2024-01-18    -1.685875\n",
       "86397 2024-01-18    -1.664874\n",
       "86398 2024-01-18    -1.634514\n",
       "86399 2024-01-18    -1.601181\n",
       "\n",
       "[86400 rows x 2 columns]"
      ]
     },
     "execution_count": 19,
     "metadata": {},
     "output_type": "execute_result"
    }
   ],
   "source": [
    "data"
   ]
  },
  {
   "cell_type": "code",
   "execution_count": 9,
   "metadata": {},
   "outputs": [
    {
     "data": {
      "text/plain": [
       "86400"
      ]
     },
     "execution_count": 9,
     "metadata": {},
     "output_type": "execute_result"
    }
   ],
   "source": [
    "24*3600"
   ]
  }
 ],
 "metadata": {
  "kernelspec": {
   "display_name": "gt",
   "language": "python",
   "name": "python3"
  },
  "language_info": {
   "codemirror_mode": {
    "name": "ipython",
    "version": 3
   },
   "file_extension": ".py",
   "mimetype": "text/x-python",
   "name": "python",
   "nbconvert_exporter": "python",
   "pygments_lexer": "ipython3",
   "version": "3.12.6"
  }
 },
 "nbformat": 4,
 "nbformat_minor": 2
}
