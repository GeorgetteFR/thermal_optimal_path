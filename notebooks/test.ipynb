{
 "cells": [
  {
   "cell_type": "code",
   "execution_count": 354,
   "metadata": {},
   "outputs": [],
   "source": [
    "import numpy as np\n",
    "from helpers import *"
   ]
  },
  {
   "cell_type": "code",
   "execution_count": 355,
   "metadata": {},
   "outputs": [],
   "source": [
    "day = '28'\n",
    "month = '02'\n",
    "year = '2024'\n",
    "\n",
    "btc_path = f'/home/elantonino/Big data project/btc_parquet_data/{year}/{month}/BTCUSDT-1s-{year}-{month}-{day}.parquet'\n",
    "eth_path = f'/home/elantonino/Big data project/eth_parquet_data/{year}/{month}/ETHUSDT-1s-{year}-{month}-{day}.parquet'"
   ]
  },
  {
   "cell_type": "code",
   "execution_count": 356,
   "metadata": {},
   "outputs": [
    {
     "data": {
      "text/html": [
       "<div>\n",
       "<style scoped>\n",
       "    .dataframe tbody tr th:only-of-type {\n",
       "        vertical-align: middle;\n",
       "    }\n",
       "\n",
       "    .dataframe tbody tr th {\n",
       "        vertical-align: top;\n",
       "    }\n",
       "\n",
       "    .dataframe thead th {\n",
       "        text-align: right;\n",
       "    }\n",
       "</style>\n",
       "<table border=\"1\" class=\"dataframe\">\n",
       "  <thead>\n",
       "    <tr style=\"text-align: right;\">\n",
       "      <th></th>\n",
       "      <th>Open time</th>\n",
       "      <th>Open</th>\n",
       "    </tr>\n",
       "  </thead>\n",
       "  <tbody>\n",
       "    <tr>\n",
       "      <th>0</th>\n",
       "      <td>2024-02-28 00:00:00</td>\n",
       "      <td>57037.35</td>\n",
       "    </tr>\n",
       "    <tr>\n",
       "      <th>1</th>\n",
       "      <td>2024-02-28 00:00:01</td>\n",
       "      <td>57037.35</td>\n",
       "    </tr>\n",
       "    <tr>\n",
       "      <th>2</th>\n",
       "      <td>2024-02-28 00:00:02</td>\n",
       "      <td>57037.35</td>\n",
       "    </tr>\n",
       "    <tr>\n",
       "      <th>3</th>\n",
       "      <td>2024-02-28 00:00:03</td>\n",
       "      <td>57037.35</td>\n",
       "    </tr>\n",
       "    <tr>\n",
       "      <th>4</th>\n",
       "      <td>2024-02-28 00:00:04</td>\n",
       "      <td>57037.35</td>\n",
       "    </tr>\n",
       "  </tbody>\n",
       "</table>\n",
       "</div>"
      ],
      "text/plain": [
       "            Open time      Open\n",
       "0 2024-02-28 00:00:00  57037.35\n",
       "1 2024-02-28 00:00:01  57037.35\n",
       "2 2024-02-28 00:00:02  57037.35\n",
       "3 2024-02-28 00:00:03  57037.35\n",
       "4 2024-02-28 00:00:04  57037.35"
      ]
     },
     "execution_count": 356,
     "metadata": {},
     "output_type": "execute_result"
    }
   ],
   "source": [
    "btc_data = load_parquet(btc_path)\n",
    "btc_data.head()"
   ]
  },
  {
   "cell_type": "code",
   "execution_count": 357,
   "metadata": {},
   "outputs": [
    {
     "data": {
      "text/html": [
       "<div>\n",
       "<style scoped>\n",
       "    .dataframe tbody tr th:only-of-type {\n",
       "        vertical-align: middle;\n",
       "    }\n",
       "\n",
       "    .dataframe tbody tr th {\n",
       "        vertical-align: top;\n",
       "    }\n",
       "\n",
       "    .dataframe thead th {\n",
       "        text-align: right;\n",
       "    }\n",
       "</style>\n",
       "<table border=\"1\" class=\"dataframe\">\n",
       "  <thead>\n",
       "    <tr style=\"text-align: right;\">\n",
       "      <th></th>\n",
       "      <th>Open time</th>\n",
       "      <th>Open</th>\n",
       "    </tr>\n",
       "  </thead>\n",
       "  <tbody>\n",
       "    <tr>\n",
       "      <th>0</th>\n",
       "      <td>2024-02-28 00:00:00</td>\n",
       "      <td>3242.35</td>\n",
       "    </tr>\n",
       "    <tr>\n",
       "      <th>1</th>\n",
       "      <td>2024-02-28 00:00:01</td>\n",
       "      <td>3242.54</td>\n",
       "    </tr>\n",
       "    <tr>\n",
       "      <th>2</th>\n",
       "      <td>2024-02-28 00:00:02</td>\n",
       "      <td>3242.54</td>\n",
       "    </tr>\n",
       "    <tr>\n",
       "      <th>3</th>\n",
       "      <td>2024-02-28 00:00:03</td>\n",
       "      <td>3242.54</td>\n",
       "    </tr>\n",
       "    <tr>\n",
       "      <th>4</th>\n",
       "      <td>2024-02-28 00:00:04</td>\n",
       "      <td>3242.69</td>\n",
       "    </tr>\n",
       "  </tbody>\n",
       "</table>\n",
       "</div>"
      ],
      "text/plain": [
       "            Open time     Open\n",
       "0 2024-02-28 00:00:00  3242.35\n",
       "1 2024-02-28 00:00:01  3242.54\n",
       "2 2024-02-28 00:00:02  3242.54\n",
       "3 2024-02-28 00:00:03  3242.54\n",
       "4 2024-02-28 00:00:04  3242.69"
      ]
     },
     "execution_count": 357,
     "metadata": {},
     "output_type": "execute_result"
    }
   ],
   "source": [
    "eth_data = load_parquet(eth_path)\n",
    "eth_data.head()"
   ]
  },
  {
   "cell_type": "code",
   "execution_count": null,
   "metadata": {},
   "outputs": [],
   "source": []
  },
  {
   "cell_type": "code",
   "execution_count": 358,
   "metadata": {},
   "outputs": [],
   "source": [
    "# t = 5*60\n",
    "# base_time = 36000\n",
    "\n",
    "btc_prices = btc_data['Open']\n",
    "eth_prices = eth_data['Open']\n",
    "btc_prices_std = standardize(btc_prices)\n",
    "eth_prices_std = standardize(eth_prices)"
   ]
  },
  {
   "cell_type": "code",
   "execution_count": 359,
   "metadata": {},
   "outputs": [
    {
     "data": {
      "text/plain": [
       "array([-1.24458957, -1.24458957, -1.24458957, ...,  1.75639165,\n",
       "        1.75639165,  1.75638609])"
      ]
     },
     "execution_count": 359,
     "metadata": {},
     "output_type": "execute_result"
    }
   ],
   "source": [
    "btc_prices_std"
   ]
  },
  {
   "cell_type": "code",
   "execution_count": 360,
   "metadata": {},
   "outputs": [],
   "source": [
    "import sys\n",
    "import os\n",
    "\n",
    "parent_dir = os.path.abspath(os.path.join(os.getcwd(), \"..\"))\n",
    "sys.path.append(parent_dir)"
   ]
  },
  {
   "cell_type": "code",
   "execution_count": 361,
   "metadata": {},
   "outputs": [],
   "source": [
    "from thermal_optimal_path.lattice import partition_function\n",
    "from thermal_optimal_path.statistics import average_path"
   ]
  },
  {
   "cell_type": "code",
   "execution_count": 362,
   "metadata": {},
   "outputs": [],
   "source": [
    "temperature = 0.1\n",
    "minute = 40  \n",
    "base_time = 0\n",
    "total = len(btc_prices_std)\n",
    "# total = 1\n",
    "\n",
    "df_avg = []\n",
    "weights = np.exp(np.linspace(0, 2, minute))  \n",
    "weights /= weights.sum()\n",
    "for i in range(total-minute):\n",
    "    end_time = i + minute\n",
    "    btc = btc_prices_std[i:end_time]\n",
    "    eth = eth_prices_std[i:end_time]\n",
    "\n",
    "    g = partition_function(btc, eth, temperature)\n",
    "    avg_path = average_path(g)[::2]\n",
    "    weighted_avg = np.dot(avg_path, weights)\n",
    "    df_avg.append(weighted_avg)"
   ]
  },
  {
   "cell_type": "code",
   "execution_count": 363,
   "metadata": {},
   "outputs": [
    {
     "data": {
      "text/plain": [
       "[<matplotlib.lines.Line2D at 0x7c349e40be60>]"
      ]
     },
     "execution_count": 363,
     "metadata": {},
     "output_type": "execute_result"
    },
    {
     "data": {
      "image/png": "[encoded data removed]",
      "text/plain": [
       "<Figure size 640x480 with 1 Axes>"
      ]
     },
     "metadata": {},
     "output_type": "display_data"
    }
   ],
   "source": [
    "plt.plot(df_avg)"
   ]
  },
  {
   "cell_type": "code",
   "execution_count": 364,
   "metadata": {},
   "outputs": [
    {
     "data": {
      "text/plain": [
       "0    57037.35\n",
       "1    57037.35\n",
       "2    57037.35\n",
       "3    57037.35\n",
       "4    57037.35\n",
       "Name: Open, dtype: float64"
      ]
     },
     "execution_count": 364,
     "metadata": {},
     "output_type": "execute_result"
    }
   ],
   "source": [
    "btc_prices.head(5)"
   ]
  },
  {
   "cell_type": "code",
   "execution_count": 365,
   "metadata": {},
   "outputs": [
    {
     "data": {
      "text/plain": [
       "0         NaN\n",
       "1         NaN\n",
       "2         NaN\n",
       "3         NaN\n",
       "4         NaN\n",
       "5    0.000000\n",
       "6    0.000000\n",
       "7    0.000016\n",
       "8    0.000016\n",
       "9   -0.000024\n",
       "Name: Open, dtype: float64"
      ]
     },
     "execution_count": 365,
     "metadata": {},
     "output_type": "execute_result"
    }
   ],
   "source": [
    "btc_prices.pct_change().rolling(window=5).mean().head(10)"
   ]
  },
  {
   "cell_type": "code",
   "execution_count": 366,
   "metadata": {},
   "outputs": [],
   "source": [
    "btc_returns = btc_prices.pct_change().rolling(window=5).mean()[minute:]\n",
    "eth_returns = eth_prices.pct_change().rolling(window=5).mean()[minute:]"
   ]
  },
  {
   "cell_type": "code",
   "execution_count": 367,
   "metadata": {},
   "outputs": [
    {
     "data": {
      "image/png": "[encoded data removed]",
      "text/plain": [
       "<Figure size 1000x600 with 1 Axes>"
      ]
     },
     "metadata": {},
     "output_type": "display_data"
    }
   ],
   "source": [
    "from scipy.stats import norm\n",
    "plt.figure(figsize=(10, 6))\n",
    "plt.hist(btc_returns, bins=50, density=True, alpha=0.6, color='blue', label='BTC Returns')\n",
    "\n",
    "mean = np.mean(btc_returns)\n",
    "std = np.std(btc_returns)\n",
    "x = np.linspace(mean - 4 * std, mean + 4 * std, 1000)\n",
    "gaussian_curve = norm.pdf(x, mean, std)\n",
    "plt.plot(x, gaussian_curve, color='red', linewidth=2, label='Gaussian Fit')\n",
    "\n",
    "plt.title('Distribution of BTC Returns with Gaussian Curve')\n",
    "plt.xlabel('Returns')\n",
    "plt.ylabel('Density')\n",
    "plt.legend()\n",
    "plt.show()"
   ]
  },
  {
   "cell_type": "code",
   "execution_count": 368,
   "metadata": {},
   "outputs": [
    {
     "name": "stdout",
     "output_type": "stream",
     "text": [
      "-0.00011115945623722978\n",
      "-0.00010403368269336633\n"
     ]
    }
   ],
   "source": [
    "print(np.percentile(btc_returns, 5))\n",
    "print(np.percentile(eth_returns, 5))"
   ]
  },
  {
   "cell_type": "code",
   "execution_count": 369,
   "metadata": {},
   "outputs": [
    {
     "name": "stdout",
     "output_type": "stream",
     "text": [
      "0.00011442584426829894\n",
      "0.00010604654329636545\n"
     ]
    }
   ],
   "source": [
    "print(np.percentile(btc_returns, 95))\n",
    "print(np.percentile(eth_returns, 95))"
   ]
  },
  {
   "cell_type": "code",
   "execution_count": null,
   "metadata": {},
   "outputs": [],
   "source": []
  },
  {
   "cell_type": "code",
   "execution_count": 370,
   "metadata": {},
   "outputs": [
    {
     "data": {
      "text/plain": [
       "86360"
      ]
     },
     "execution_count": 370,
     "metadata": {},
     "output_type": "execute_result"
    }
   ],
   "source": [
    "len(btc_returns)"
   ]
  },
  {
   "cell_type": "code",
   "execution_count": 371,
   "metadata": {},
   "outputs": [
    {
     "data": {
      "text/plain": [
       "86360"
      ]
     },
     "execution_count": 371,
     "metadata": {},
     "output_type": "execute_result"
    }
   ],
   "source": [
    "len(df_avg)"
   ]
  },
  {
   "cell_type": "code",
   "execution_count": 372,
   "metadata": {},
   "outputs": [],
   "source": [
    "from strategies import basic_strategy"
   ]
  },
  {
   "cell_type": "code",
   "execution_count": 373,
   "metadata": {},
   "outputs": [
    {
     "name": "stdout",
     "output_type": "stream",
     "text": [
      "Long BTC, price: 63718.65, total money: -1, i: 62047\n",
      "Sold BTC at price: 63666.52, total money: -0.0008181278165811934, i: 62048\n",
      "Short BTC, price: 60426.1, total money: 0.9991818721834188, i: 63199\n",
      "Bought back BTC at price: 60404.01, total money: -0.00045255730979698594, i: 63200\n",
      "Short BTC, price: 60397.4, total money: 0.999547442690203, i: 63201\n",
      "Bought back BTC at price: 60472.0, total money: -0.0016877098163617932, i: 63203\n",
      "Long BTC, price: 60426.0, total money: -1.0016877098163617, i: 63204\n",
      "Sold BTC at price: 60466.0, total money: -0.0010257431132867367, i: 63205\n",
      "Long BTC, price: 60615.8, total money: -1.0010257431132867, i: 63275\n",
      "Sold BTC at price: 60509.62, total money: -0.002777431616944215, i: 63276\n",
      "Long BTC, price: 60517.25, total money: -1.0027774316169442, i: 63277\n",
      "Sold BTC at price: 60557.03, total money: -0.0021200983772480253, i: 63278\n",
      "Short BTC, price: 60552.46, total money: 0.997879901622752, i: 63283\n",
      "Bought back BTC at price: 60601.96, total money: -0.0029375713585273466, i: 63284\n",
      "Long BTC, price: 60706.0, total money: -1.0029375713585273, i: 63302\n",
      "Sold BTC at price: 60653.9, total money: -0.0037958061293901224, i: 63303\n",
      "Long BTC, price: 60722.04, total money: -1.0037958061293901, i: 63304\n",
      "Sold BTC at price: 60809.89, total money: -0.0023490497292428802, i: 63305\n",
      "Short BTC, price: 60941.1, total money: 0.9976509502707571, i: 65227\n",
      "Bought back BTC at price: 60960.33, total money: -0.0026646003182542177, i: 65228\n",
      "Total money after strategy: Base amount + -0.0026646003182542177\n"
     ]
    }
   ],
   "source": [
    "basic_strategy(btc_prices[minute:], btc_returns, eth_prices[minute:], eth_returns, df_avg)"
   ]
  }
 ],
 "metadata": {
  "kernelspec": {
   "display_name": "gt",
   "language": "python",
   "name": "python3"
  },
  "language_info": {
   "codemirror_mode": {
    "name": "ipython",
    "version": 3
   },
   "file_extension": ".py",
   "mimetype": "text/x-python",
   "name": "python",
   "nbconvert_exporter": "python",
   "pygments_lexer": "ipython3",
   "version": "3.12.6"
  }
 },
 "nbformat": 4,
 "nbformat_minor": 2
}
