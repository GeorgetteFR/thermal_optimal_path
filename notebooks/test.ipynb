{
 "cells": [
  {
   "cell_type": "code",
   "execution_count": 1,
   "metadata": {},
   "outputs": [],
   "source": [
    "import polars as pl\n",
    "import numpy as np\n",
    "from helpers import *"
   ]
  },
  {
   "cell_type": "code",
   "execution_count": 2,
   "metadata": {},
   "outputs": [],
   "source": [
    "btc_path = '/home/elantonino/Big data project/btc_parquet_data/2024/08/BTCUSDT-1s-2024-08-17.parquet'\n",
    "eth_path = '/home/elantonino/Big data project/eth_parquet_data/2024/08/ETHUSDT-1s-2024-08-17.parquet'"
   ]
  },
  {
   "cell_type": "code",
   "execution_count": 3,
   "metadata": {},
   "outputs": [
    {
     "data": {
      "text/html": [
       "<div><style>\n",
       ".dataframe > thead > tr,\n",
       ".dataframe > tbody > tr {\n",
       "  text-align: right;\n",
       "  white-space: pre-wrap;\n",
       "}\n",
       "</style>\n",
       "<small>shape: (5, 12)</small><table border=\"1\" class=\"dataframe\"><thead><tr><th>Open time</th><th>Open</th><th>High</th><th>Low</th><th>Close</th><th>Volume</th><th>Close time</th><th>Quote asset volume</th><th>Number of trades</th><th>Taker buy base asset volume</th><th>Taker buy quote asset volume</th><th>Ignore</th></tr><tr><td>datetime[ms]</td><td>f64</td><td>f64</td><td>f64</td><td>f64</td><td>f64</td><td>datetime[ms]</td><td>f64</td><td>i64</td><td>f64</td><td>f64</td><td>i64</td></tr></thead><tbody><tr><td>2024-08-17 00:00:00</td><td>58874.59</td><td>58874.6</td><td>58874.59</td><td>58874.6</td><td>0.0426</td><td>2024-08-17 00:00:00.999</td><td>2508.057551</td><td>4</td><td>0.00166</td><td>97.731836</td><td>0</td></tr><tr><td>2024-08-17 00:00:01</td><td>58874.6</td><td>58874.6</td><td>58874.59</td><td>58874.59</td><td>0.00311</td><td>2024-08-17 00:00:01.999</td><td>183.099989</td><td>4</td><td>0.00141</td><td>83.013186</td><td>0</td></tr><tr><td>2024-08-17 00:00:02</td><td>58874.6</td><td>58874.6</td><td>58874.59</td><td>58874.59</td><td>0.01868</td><td>2024-08-17 00:00:02.999</td><td>1099.777477</td><td>19</td><td>0.0136</td><td>800.69456</td><td>0</td></tr><tr><td>2024-08-17 00:00:03</td><td>58874.6</td><td>58874.6</td><td>58874.59</td><td>58874.6</td><td>0.00916</td><td>2024-08-17 00:00:03.999</td><td>539.29129</td><td>21</td><td>0.00452</td><td>266.113192</td><td>0</td></tr><tr><td>2024-08-17 00:00:04</td><td>58874.59</td><td>58874.6</td><td>58874.59</td><td>58874.59</td><td>0.03808</td><td>2024-08-17 00:00:04.999</td><td>2241.944688</td><td>11</td><td>0.03011</td><td>1772.714206</td><td>0</td></tr></tbody></table></div>"
      ],
      "text/plain": [
       "shape: (5, 12)\n",
       "┌─────────────┬──────────┬─────────┬──────────┬───┬─────────────┬────────────┬────────────┬────────┐\n",
       "│ Open time   ┆ Open     ┆ High    ┆ Low      ┆ … ┆ Number of   ┆ Taker buy  ┆ Taker buy  ┆ Ignore │\n",
       "│ ---         ┆ ---      ┆ ---     ┆ ---      ┆   ┆ trades      ┆ base asset ┆ quote      ┆ ---    │\n",
       "│ datetime[ms ┆ f64      ┆ f64     ┆ f64      ┆   ┆ ---         ┆ volume     ┆ asset      ┆ i64    │\n",
       "│ ]           ┆          ┆         ┆          ┆   ┆ i64         ┆ ---        ┆ volume     ┆        │\n",
       "│             ┆          ┆         ┆          ┆   ┆             ┆ f64        ┆ ---        ┆        │\n",
       "│             ┆          ┆         ┆          ┆   ┆             ┆            ┆ f64        ┆        │\n",
       "╞═════════════╪══════════╪═════════╪══════════╪═══╪═════════════╪════════════╪════════════╪════════╡\n",
       "│ 2024-08-17  ┆ 58874.59 ┆ 58874.6 ┆ 58874.59 ┆ … ┆ 4           ┆ 0.00166    ┆ 97.731836  ┆ 0      │\n",
       "│ 00:00:00    ┆          ┆         ┆          ┆   ┆             ┆            ┆            ┆        │\n",
       "│ 2024-08-17  ┆ 58874.6  ┆ 58874.6 ┆ 58874.59 ┆ … ┆ 4           ┆ 0.00141    ┆ 83.013186  ┆ 0      │\n",
       "│ 00:00:01    ┆          ┆         ┆          ┆   ┆             ┆            ┆            ┆        │\n",
       "│ 2024-08-17  ┆ 58874.6  ┆ 58874.6 ┆ 58874.59 ┆ … ┆ 19          ┆ 0.0136     ┆ 800.69456  ┆ 0      │\n",
       "│ 00:00:02    ┆          ┆         ┆          ┆   ┆             ┆            ┆            ┆        │\n",
       "│ 2024-08-17  ┆ 58874.6  ┆ 58874.6 ┆ 58874.59 ┆ … ┆ 21          ┆ 0.00452    ┆ 266.113192 ┆ 0      │\n",
       "│ 00:00:03    ┆          ┆         ┆          ┆   ┆             ┆            ┆            ┆        │\n",
       "│ 2024-08-17  ┆ 58874.59 ┆ 58874.6 ┆ 58874.59 ┆ … ┆ 11          ┆ 0.03011    ┆ 1772.71420 ┆ 0      │\n",
       "│ 00:00:04    ┆          ┆         ┆          ┆   ┆             ┆            ┆ 6          ┆        │\n",
       "└─────────────┴──────────┴─────────┴──────────┴───┴─────────────┴────────────┴────────────┴────────┘"
      ]
     },
     "execution_count": 3,
     "metadata": {},
     "output_type": "execute_result"
    }
   ],
   "source": [
    "btc_data = load_parquet(btc_path)\n",
    "btc_data.collect().head()"
   ]
  },
  {
   "cell_type": "code",
   "execution_count": 4,
   "metadata": {},
   "outputs": [
    {
     "data": {
      "text/html": [
       "<div><style>\n",
       ".dataframe > thead > tr,\n",
       ".dataframe > tbody > tr {\n",
       "  text-align: right;\n",
       "  white-space: pre-wrap;\n",
       "}\n",
       "</style>\n",
       "<small>shape: (5, 12)</small><table border=\"1\" class=\"dataframe\"><thead><tr><th>Open time</th><th>Open</th><th>High</th><th>Low</th><th>Close</th><th>Volume</th><th>Close time</th><th>Quote asset volume</th><th>Number of trades</th><th>Taker buy base asset volume</th><th>Taker buy quote asset volume</th><th>Ignore</th></tr><tr><td>datetime[ms]</td><td>f64</td><td>f64</td><td>f64</td><td>f64</td><td>f64</td><td>datetime[ms]</td><td>f64</td><td>i64</td><td>f64</td><td>f64</td><td>i64</td></tr></thead><tbody><tr><td>2024-08-17 00:00:00</td><td>2592.72</td><td>2592.72</td><td>2592.72</td><td>2592.72</td><td>0.2801</td><td>2024-08-17 00:00:00.999</td><td>726.220872</td><td>2</td><td>0.0</td><td>0.0</td><td>0</td></tr><tr><td>2024-08-17 00:00:01</td><td>2592.73</td><td>2592.73</td><td>2592.72</td><td>2592.73</td><td>2.6031</td><td>2024-08-17 00:00:01.999</td><td>6749.109853</td><td>7</td><td>0.0421</td><td>109.153933</td><td>0</td></tr><tr><td>2024-08-17 00:00:02</td><td>2592.73</td><td>2592.73</td><td>2592.73</td><td>2592.73</td><td>0.0171</td><td>2024-08-17 00:00:02.999</td><td>44.335683</td><td>3</td><td>0.0171</td><td>44.335683</td><td>0</td></tr><tr><td>2024-08-17 00:00:03</td><td>2592.72</td><td>2592.72</td><td>2592.6</td><td>2592.61</td><td>0.1545</td><td>2024-08-17 00:00:03.999</td><td>400.569425</td><td>26</td><td>0.0039</td><td>10.111179</td><td>0</td></tr><tr><td>2024-08-17 00:00:04</td><td>2592.61</td><td>2592.61</td><td>2592.61</td><td>2592.61</td><td>0.0198</td><td>2024-08-17 00:00:04.999</td><td>51.333678</td><td>1</td><td>0.0198</td><td>51.333678</td><td>0</td></tr></tbody></table></div>"
      ],
      "text/plain": [
       "shape: (5, 12)\n",
       "┌─────────────┬─────────┬─────────┬─────────┬───┬─────────────┬─────────────┬─────────────┬────────┐\n",
       "│ Open time   ┆ Open    ┆ High    ┆ Low     ┆ … ┆ Number of   ┆ Taker buy   ┆ Taker buy   ┆ Ignore │\n",
       "│ ---         ┆ ---     ┆ ---     ┆ ---     ┆   ┆ trades      ┆ base asset  ┆ quote asset ┆ ---    │\n",
       "│ datetime[ms ┆ f64     ┆ f64     ┆ f64     ┆   ┆ ---         ┆ volume      ┆ volume      ┆ i64    │\n",
       "│ ]           ┆         ┆         ┆         ┆   ┆ i64         ┆ ---         ┆ ---         ┆        │\n",
       "│             ┆         ┆         ┆         ┆   ┆             ┆ f64         ┆ f64         ┆        │\n",
       "╞═════════════╪═════════╪═════════╪═════════╪═══╪═════════════╪═════════════╪═════════════╪════════╡\n",
       "│ 2024-08-17  ┆ 2592.72 ┆ 2592.72 ┆ 2592.72 ┆ … ┆ 2           ┆ 0.0         ┆ 0.0         ┆ 0      │\n",
       "│ 00:00:00    ┆         ┆         ┆         ┆   ┆             ┆             ┆             ┆        │\n",
       "│ 2024-08-17  ┆ 2592.73 ┆ 2592.73 ┆ 2592.72 ┆ … ┆ 7           ┆ 0.0421      ┆ 109.153933  ┆ 0      │\n",
       "│ 00:00:01    ┆         ┆         ┆         ┆   ┆             ┆             ┆             ┆        │\n",
       "│ 2024-08-17  ┆ 2592.73 ┆ 2592.73 ┆ 2592.73 ┆ … ┆ 3           ┆ 0.0171      ┆ 44.335683   ┆ 0      │\n",
       "│ 00:00:02    ┆         ┆         ┆         ┆   ┆             ┆             ┆             ┆        │\n",
       "│ 2024-08-17  ┆ 2592.72 ┆ 2592.72 ┆ 2592.6  ┆ … ┆ 26          ┆ 0.0039      ┆ 10.111179   ┆ 0      │\n",
       "│ 00:00:03    ┆         ┆         ┆         ┆   ┆             ┆             ┆             ┆        │\n",
       "│ 2024-08-17  ┆ 2592.61 ┆ 2592.61 ┆ 2592.61 ┆ … ┆ 1           ┆ 0.0198      ┆ 51.333678   ┆ 0      │\n",
       "│ 00:00:04    ┆         ┆         ┆         ┆   ┆             ┆             ┆             ┆        │\n",
       "└─────────────┴─────────┴─────────┴─────────┴───┴─────────────┴─────────────┴─────────────┴────────┘"
      ]
     },
     "execution_count": 4,
     "metadata": {},
     "output_type": "execute_result"
    }
   ],
   "source": [
    "eth_data = load_parquet(eth_path)\n",
    "eth_data.collect().head()"
   ]
  },
  {
   "cell_type": "code",
   "execution_count": null,
   "metadata": {},
   "outputs": [],
   "source": []
  },
  {
   "cell_type": "code",
   "execution_count": 5,
   "metadata": {},
   "outputs": [],
   "source": [
    "btc_prices = btc_data[36000:36060].select(standardize(pl.col(\"Open\")))\n",
    "eth_prices = eth_data[36000:36060].select(standardize(pl.col(\"Open\")))"
   ]
  },
  {
   "cell_type": "code",
   "execution_count": 6,
   "metadata": {},
   "outputs": [
    {
     "data": {
      "text/html": [
       "<div><style>\n",
       ".dataframe > thead > tr,\n",
       ".dataframe > tbody > tr {\n",
       "  text-align: right;\n",
       "  white-space: pre-wrap;\n",
       "}\n",
       "</style>\n",
       "<small>shape: (60, 1)</small><table border=\"1\" class=\"dataframe\"><thead><tr><th>Open</th></tr><tr><td>f64</td></tr></thead><tbody><tr><td>-0.189743</td></tr><tr><td>-0.190797</td></tr><tr><td>-0.189743</td></tr><tr><td>-0.190797</td></tr><tr><td>-0.189743</td></tr><tr><td>&hellip;</td></tr><tr><td>1.160651</td></tr><tr><td>1.351308</td></tr><tr><td>1.717873</td></tr><tr><td>1.717873</td></tr><tr><td>1.717873</td></tr></tbody></table></div>"
      ],
      "text/plain": [
       "shape: (60, 1)\n",
       "┌───────────┐\n",
       "│ Open      │\n",
       "│ ---       │\n",
       "│ f64       │\n",
       "╞═══════════╡\n",
       "│ -0.189743 │\n",
       "│ -0.190797 │\n",
       "│ -0.189743 │\n",
       "│ -0.190797 │\n",
       "│ -0.189743 │\n",
       "│ …         │\n",
       "│ 1.160651  │\n",
       "│ 1.351308  │\n",
       "│ 1.717873  │\n",
       "│ 1.717873  │\n",
       "│ 1.717873  │\n",
       "└───────────┘"
      ]
     },
     "execution_count": 6,
     "metadata": {},
     "output_type": "execute_result"
    }
   ],
   "source": [
    "btc_prices.collect()"
   ]
  },
  {
   "cell_type": "code",
   "execution_count": 7,
   "metadata": {},
   "outputs": [],
   "source": [
    "import sys\n",
    "import os\n",
    "\n",
    "parent_dir = os.path.abspath(os.path.join(os.getcwd(), \"..\"))\n",
    "sys.path.append(parent_dir)"
   ]
  },
  {
   "cell_type": "code",
   "execution_count": 8,
   "metadata": {},
   "outputs": [],
   "source": [
    "from lattice_polars import partition_function, average_path"
   ]
  },
  {
   "cell_type": "code",
   "execution_count": 9,
   "metadata": {},
   "outputs": [],
   "source": [
    "temperature = 0.1\n",
    "\n",
    "g = partition_function(btc_prices.collect()['Open'], eth_prices.collect()['Open'], temperature)"
   ]
  },
  {
   "cell_type": "code",
   "execution_count": 10,
   "metadata": {},
   "outputs": [
    {
     "data": {
      "text/plain": [
       "<bound method DataFrame.head of shape: (60, 60)\n",
       "┌───────┬────────────┬────────────┬────────────┬───┬───────────┬───────────┬───────────┬───────────┐\n",
       "│ col_0 ┆ col_1      ┆ col_2      ┆ col_3      ┆ … ┆ col_56    ┆ col_57    ┆ col_58    ┆ col_59    │\n",
       "│ ---   ┆ ---        ┆ ---        ┆ ---        ┆   ┆ ---       ┆ ---       ┆ ---       ┆ ---       │\n",
       "│ f64   ┆ f64        ┆ f64        ┆ f64        ┆   ┆ f64       ┆ f64       ┆ f64       ┆ f64       │\n",
       "╞═══════╪════════════╪════════════╪════════════╪═══╪═══════════╪═══════════╪═══════════╪═══════════╡\n",
       "│ 1.0   ┆ 1.0        ┆ 0.0        ┆ 0.0        ┆ … ┆ 0.0       ┆ 0.0       ┆ 0.0       ┆ 0.0       │\n",
       "│ 1.0   ┆ 8.5125e-7  ┆ 2.8375e-7  ┆ 1.2144e-10 ┆ … ┆ 2.9197e-1 ┆ 5.0956e-1 ┆ 4.6846e-1 ┆ 3.9353e-1 │\n",
       "│       ┆            ┆            ┆            ┆   ┆ 51        ┆ 56        ┆ 61        ┆ 69        │\n",
       "│ 0.0   ┆ 2.7650e-7  ┆ 3.9028e-13 ┆ 1.1926e-10 ┆ … ┆ 1.5125e-1 ┆ 2.6320e-1 ┆ 2.4112e-1 ┆ 2.0064e-1 │\n",
       "│       ┆            ┆            ┆            ┆   ┆ 49        ┆ 54        ┆ 59        ┆ 67        │\n",
       "│ 0.0   ┆ 7.8457e-14 ┆ 7.8457e-14 ┆ 5.1244e-14 ┆ … ┆ 6.3603e-1 ┆ 1.1364e-1 ┆ 1.0689e-1 ┆ 9.1822e-1 │\n",
       "│       ┆            ┆            ┆            ┆   ┆ 48        ┆ 52        ┆ 57        ┆ 66        │\n",
       "│ 0.0   ┆ 2.1693e-20 ┆ 4.3387e-20 ┆ 5.4490e-17 ┆ … ┆ 1.2035e-1 ┆ 2.1632e-1 ┆ 2.0462e-1 ┆ 1.7575e-1 │\n",
       "│       ┆            ┆            ┆            ┆   ┆ 46        ┆ 51        ┆ 56        ┆ 64        │\n",
       "│ …     ┆ …          ┆ …          ┆ …          ┆ … ┆ …         ┆ …         ┆ …         ┆ …         │\n",
       "│ 0.0   ┆ 5.1700e-23 ┆ 3.0140e-23 ┆ 3.8191e-13 ┆ … ┆ 74926.549 ┆ 92344.699 ┆ 102636.78 ┆ 24610.594 │\n",
       "│       ┆ 5          ┆ 3          ┆ 1          ┆   ┆ 683       ┆ 226       ┆ 2966      ┆ 379       │\n",
       "│ 0.0   ┆ 4.9410e-23 ┆ 2.9771e-23 ┆ 1.7456e-13 ┆ … ┆ 207620.99 ┆ 329354.72 ┆ 488928.42 ┆ 407867.16 │\n",
       "│       ┆ 5          ┆ 3          ┆ 1          ┆   ┆ 9421      ┆ 6343      ┆ 1805      ┆ 372       │\n",
       "│ 0.0   ┆ 2.0177e-23 ┆ 1.2442e-23 ┆ 2.6759e-13 ┆ … ┆ 28338.429 ┆ 56253.779 ┆ 115244.32 ┆ 774787.47 │\n",
       "│       ┆ 5          ┆ 3          ┆ 3          ┆   ┆ 732       ┆ 089       ┆ 7023      ┆ 536       │\n",
       "│ 0.0   ┆ 8.2396e-23 ┆ 5.1967e-23 ┆ 4.1020e-13 ┆ … ┆ 3219.1806 ┆ 8738.0131 ┆ 23751.072 ┆ 699564.82 │\n",
       "│       ┆ 6          ┆ 4          ┆ 5          ┆   ┆ 82        ┆ 18        ┆ 847       ┆ 7581      │\n",
       "│ 0.0   ┆ 3.3647e-23 ┆ 2.1695e-23 ┆ 6.2882e-13 ┆ … ┆ 334.03983 ┆ 1223.0869 ┆ 4442.5072 ┆ 557150.06 │\n",
       "│       ┆ 6          ┆ 4          ┆ 7          ┆   ┆ 4         ┆ 06        ┆ 9         ┆ 1373      │\n",
       "└───────┴────────────┴────────────┴────────────┴───┴───────────┴───────────┴───────────┴───────────┘>"
      ]
     },
     "execution_count": 10,
     "metadata": {},
     "output_type": "execute_result"
    }
   ],
   "source": [
    "g.head"
   ]
  },
  {
   "cell_type": "code",
   "execution_count": 11,
   "metadata": {},
   "outputs": [
    {
     "data": {
      "text/html": [
       "<div><style>\n",
       ".dataframe > thead > tr,\n",
       ".dataframe > tbody > tr {\n",
       "  text-align: right;\n",
       "  white-space: pre-wrap;\n",
       "}\n",
       "</style>\n",
       "<small>shape: (119, 1)</small><table border=\"1\" class=\"dataframe\"><thead><tr><th>avg</th></tr><tr><td>f64</td></tr></thead><tbody><tr><td>0.0</td></tr><tr><td>0.0</td></tr><tr><td>0.0</td></tr><tr><td>0.012938</td></tr><tr><td>1.991023</td></tr><tr><td>&hellip;</td></tr><tr><td>1.866623</td></tr><tr><td>2.497457</td></tr><tr><td>1.934487</td></tr><tr><td>0.987379</td></tr><tr><td>0.0</td></tr></tbody></table></div>"
      ],
      "text/plain": [
       "shape: (119, 1)\n",
       "┌──────────┐\n",
       "│ avg      │\n",
       "│ ---      │\n",
       "│ f64      │\n",
       "╞══════════╡\n",
       "│ 0.0      │\n",
       "│ 0.0      │\n",
       "│ 0.0      │\n",
       "│ 0.012938 │\n",
       "│ 1.991023 │\n",
       "│ …        │\n",
       "│ 1.866623 │\n",
       "│ 2.497457 │\n",
       "│ 1.934487 │\n",
       "│ 0.987379 │\n",
       "│ 0.0      │\n",
       "└──────────┘"
      ]
     },
     "execution_count": 11,
     "metadata": {},
     "output_type": "execute_result"
    }
   ],
   "source": [
    "avg = average_path(g)\n",
    "pl.DataFrame().select(avg.alias(\"avg\"))"
   ]
  },
  {
   "cell_type": "code",
   "execution_count": 12,
   "metadata": {},
   "outputs": [
    {
     "data": {
      "image/png": "[encoded data removed]",
      "text/plain": [
       "<Figure size 1000x600 with 1 Axes>"
      ]
     },
     "metadata": {},
     "output_type": "display_data"
    }
   ],
   "source": [
    "df_avg = pl.DataFrame().select(avg.alias(\"avg\"))  \n",
    "\n",
    "plot_lead_lag(df_avg)"
   ]
  },
  {
   "cell_type": "code",
   "execution_count": null,
   "metadata": {},
   "outputs": [],
   "source": []
  },
  {
   "cell_type": "code",
   "execution_count": null,
   "metadata": {},
   "outputs": [],
   "source": []
  },
  {
   "cell_type": "code",
   "execution_count": null,
   "metadata": {},
   "outputs": [],
   "source": []
  }
 ],
 "metadata": {
  "kernelspec": {
   "display_name": "gt",
   "language": "python",
   "name": "python3"
  },
  "language_info": {
   "codemirror_mode": {
    "name": "ipython",
    "version": 3
   },
   "file_extension": ".py",
   "mimetype": "text/x-python",
   "name": "python",
   "nbconvert_exporter": "python",
   "pygments_lexer": "ipython3",
   "version": "3.12.6"
  }
 },
 "nbformat": 4,
 "nbformat_minor": 2
}
