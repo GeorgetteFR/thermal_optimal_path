{
 "cells": [
  {
   "cell_type": "code",
   "execution_count": null,
   "metadata": {},
   "outputs": [
    {
     "name": "stdout",
     "output_type": "stream",
     "text": [
      "Downloading XRPUSDT data for 2024-01-01...\n",
      "Downloading BNBUSDT data for 2024-01-01...\n",
      "Downloading ETHUSDT data for 2024-01-01...\n",
      "Saved XRPUSDT data for 2024-01-01 to ../data/XRPUSDT/XRPUSDT-1s-2024-01-01.parquet\n",
      "Downloading XRPUSDT data for 2024-01-02...\n"
     ]
    }
   ],
   "source": [
    "# Import the necessary functions\n",
    "from load_files import parallel_download\n",
    "\n",
    "# Define the list of top 15 cryptocurrencies by market cap (excluding stablecoins)\n",
    "pairs = [\n",
    "    \"BTCUSDT\",  # Bitcoin\n",
    "    \"ETHUSDT\",  # Ethereum\n",
    "    \"BNBUSDT\",  # Binance Coin\n",
    "    \"XRPUSDT\",  # Ripple\n",
    "    \"ADAUSDT\",  # Cardano\n",
    "    \"SOLUSDT\",  # Solana\n",
    "    \"DOTUSDT\",  # Polkadot\n",
    "    \"DOGEUSDT\", # Dogecoin\n",
    "    \"MATICUSDT\",# Polygon\n",
    "    \"LTCUSDT\",  # Litecoin\n",
    "    \"TRXUSDT\",  # TRON\n",
    "    \"AVAXUSDT\", # Avalanche\n",
    "    \"UNIUSDT\",  # Uniswap\n",
    "    \"LINKUSDT\", # Chainlink\n",
    "    \"ATOMUSDT\"  # Cosmos\n",
    "]\n",
    "\n",
    "# Define the date range for the data\n",
    "start_date = \"2024-01-01\"\n",
    "end_date = \"2024-12-31\"\n",
    "\n",
    "# Define the output directory for the data\n",
    "output_dir = \"../data\"\n",
    "\n",
    "# Start the parallel download process\n",
    "parallel_download(pairs, start_date, end_date, output_dir, max_workers=4)\n"
   ]
  },
  {
   "cell_type": "code",
   "execution_count": null,
   "metadata": {},
   "outputs": [],
   "source": [
    "import pandas as pd x\n",
    "data = pd.read_parquet(\"../data/ETHUSDT/ETHUSDT-1s-2024-01-17.parquet\")"
   ]
  },
  {
   "cell_type": "code",
   "execution_count": 5,
   "metadata": {},
   "outputs": [
    {
     "data": {
      "text/html": [
       "<div>\n",
       "<style scoped>\n",
       "    .dataframe tbody tr th:only-of-type {\n",
       "        vertical-align: middle;\n",
       "    }\n",
       "\n",
       "    .dataframe tbody tr th {\n",
       "        vertical-align: top;\n",
       "    }\n",
       "\n",
       "    .dataframe thead th {\n",
       "        text-align: right;\n",
       "    }\n",
       "</style>\n",
       "<table border=\"1\" class=\"dataframe\">\n",
       "  <thead>\n",
       "    <tr style=\"text-align: right;\">\n",
       "      <th></th>\n",
       "      <th>Open time</th>\n",
       "      <th>Open</th>\n",
       "    </tr>\n",
       "  </thead>\n",
       "  <tbody>\n",
       "    <tr>\n",
       "      <th>0</th>\n",
       "      <td>1705449600000</td>\n",
       "      <td>2587.41</td>\n",
       "    </tr>\n",
       "    <tr>\n",
       "      <th>1</th>\n",
       "      <td>1705449601000</td>\n",
       "      <td>2587.41</td>\n",
       "    </tr>\n",
       "    <tr>\n",
       "      <th>2</th>\n",
       "      <td>1705449602000</td>\n",
       "      <td>2587.41</td>\n",
       "    </tr>\n",
       "    <tr>\n",
       "      <th>3</th>\n",
       "      <td>1705449603000</td>\n",
       "      <td>2587.40</td>\n",
       "    </tr>\n",
       "    <tr>\n",
       "      <th>4</th>\n",
       "      <td>1705449604000</td>\n",
       "      <td>2587.40</td>\n",
       "    </tr>\n",
       "  </tbody>\n",
       "</table>\n",
       "</div>"
      ],
      "text/plain": [
       "       Open time     Open\n",
       "0  1705449600000  2587.41\n",
       "1  1705449601000  2587.41\n",
       "2  1705449602000  2587.41\n",
       "3  1705449603000  2587.40\n",
       "4  1705449604000  2587.40"
      ]
     },
     "execution_count": 5,
     "metadata": {},
     "output_type": "execute_result"
    }
   ],
   "source": [
    "data.head()"
   ]
  },
  {
   "cell_type": "code",
   "execution_count": null,
   "metadata": {},
   "outputs": [],
   "source": []
  }
 ],
 "metadata": {
  "kernelspec": {
   "display_name": "gt",
   "language": "python",
   "name": "python3"
  },
  "language_info": {
   "codemirror_mode": {
    "name": "ipython",
    "version": 3
   },
   "file_extension": ".py",
   "mimetype": "text/x-python",
   "name": "python",
   "nbconvert_exporter": "python",
   "pygments_lexer": "ipython3",
   "version": "3.12.6"
  }
 },
 "nbformat": 4,
 "nbformat_minor": 2
}
