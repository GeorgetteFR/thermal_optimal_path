{
 "cells": [
  {
   "cell_type": "code",
   "execution_count": 4,
   "metadata": {},
   "outputs": [],
   "source": [
    "demo = True"
   ]
  },
  {
   "cell_type": "markdown",
   "metadata": {},
   "source": [
    "# If in demo : "
   ]
  },
  {
   "cell_type": "code",
   "execution_count": 5,
   "metadata": {},
   "outputs": [
    {
     "name": "stdout",
     "output_type": "stream",
     "text": [
      "Testing strategy for BTC-ETH on 2024-01-03\n",
      "Test completed successfully!\n",
      "Results: {'Daily Returns': 0.008926884549646963, 'Long Trades': 51, 'Short Trades': 51}\n"
     ]
    }
   ],
   "source": [
    "if demo:  \n",
    "    import os\n",
    "    from strategies import basic_strategy_new\n",
    "\n",
    "    test_date = \"2024-01-03\"\n",
    "    crypto1 = \"BTC\"\n",
    "    crypto2 = \"ETH\"\n",
    "    minute_threshold = 40\n",
    "    input_path = \"data/processed\"\n",
    "    metrics_path = \"data/lag_metrics\"\n",
    "\n",
    "    crypto1_file = os.path.join(input_path, f\"{crypto1}USDT\", f\"{crypto1}USDT-1s-{test_date}.parquet\")\n",
    "    crypto2_file = os.path.join(input_path, f\"{crypto2}USDT\", f\"{crypto2}USDT-1s-{test_date}.parquet\")\n",
    "    metrics_file = os.path.join(metrics_path, f\"{crypto1}-{crypto2}\", f\"{crypto1}-{crypto2}-metrics-{test_date}.parquet\")\n",
    "\n",
    "    if not (os.path.exists(crypto1_file) and os.path.exists(crypto2_file) and os.path.exists(metrics_file)):\n",
    "        print(f\"Missing one or more files for the test date: {test_date}\")\n",
    "    else:\n",
    "        print(f\"Testing strategy for {crypto1}-{crypto2} on {test_date}\")\n",
    "        try:\n",
    "            daily_result = basic_strategy_new(crypto1_file, crypto2_file, metrics_file, minute=minute_threshold)\n",
    "            print(\"Test completed successfully!\")\n",
    "            print(\"Results:\", daily_result)\n",
    "        except Exception as e:\n",
    "            print(f\"Error during strategy execution: {e}\")\n"
   ]
  },
  {
   "cell_type": "markdown",
   "metadata": {},
   "source": [
    "# If not in demo : "
   ]
  },
  {
   "cell_type": "markdown",
   "metadata": {},
   "source": [
    "### Computation of the lag metrics :"
   ]
  },
  {
   "cell_type": "code",
   "execution_count": 7,
   "metadata": {},
   "outputs": [],
   "source": [
    "if demo == False :\n",
    "    import os, sys\n",
    "    parent_dir = os.path.abspath(os.path.join(os.getcwd(), \"..\"))\n",
    "    sys.path.append(parent_dir)\n",
    "    from  processing.lag_metrics_computation import process_multiple_years_joblib\n",
    "\n",
    "    cryptos =  [\n",
    "        \"BTC\",  # Bitcoin\n",
    "        \"ETH\",  # Ethereum\n",
    "        \"BNB\",  # Binance Coin\n",
    "        \"XRP\",  # Ripple\n",
    "        \"ADA\",  # Cardano\n",
    "        \"SOL\",  # Solana\n",
    "        \"DOGE\", # Dogecoin\n",
    "        \"TRX\",  # TRON\n",
    "        \"AVAX\", # Avalanche\n",
    "        \"LINK\", # Chainlink\n",
    "    ]\n",
    "\n",
    "    from itertools import combinations\n",
    "    crypto_pairs = list(combinations(cryptos, 2))\n",
    "\n",
    "    # Run the parallelized processing\n",
    "    process_multiple_years_joblib(\n",
    "        crypto_pairs=crypto_pairs,\n",
    "        input_path=\"../data\",\n",
    "        output_path=\"../data/lag_metrics\",\n",
    "        temperature=0.1,\n",
    "        window=40,\n",
    "        rolling_window=3600,\n",
    "    )\n"
   ]
  },
  {
   "cell_type": "markdown",
   "metadata": {},
   "source": [
    "### Data processing : "
   ]
  },
  {
   "cell_type": "code",
   "execution_count": null,
   "metadata": {},
   "outputs": [],
   "source": [
    "from processing.price_processing import process_crypto_data\n",
    "data_path = \"../data\"\n",
    "output_path = \"../data/processed\"\n",
    "cryptos =  [\n",
    "    \"BTC\",  # Bitcoin\n",
    "    \"ETH\",  # Ethereum\n",
    "    \"BNB\",  # Binance Coin\n",
    "    \"XRP\",  # Ripple\n",
    "    \"ADA\",  # Cardano\n",
    "    \"SOL\",  # Solana\n",
    "    \"DOGE\", # Dogecoin\n",
    "    \"TRX\",  # TRON\n",
    "    \"AVAX\", # Avalanche\n",
    "    \"LINK\", # Chainlink\n",
    "]\n",
    "process_crypto_data(data_path, output_path, cryptos)"
   ]
  },
  {
   "cell_type": "markdown",
   "metadata": {},
   "source": [
    "### full calculation of strategy "
   ]
  },
  {
   "cell_type": "code",
   "execution_count": null,
   "metadata": {},
   "outputs": [],
   "source": [
    "from strategies import *\n",
    "\n",
    "cryptos =  [\n",
    "    \"BTC\",  # Bitcoin\n",
    "    \"ETH\",  # Ethereum\n",
    "    \"BNB\",  # Binance Coin\n",
    "    \"XRP\",  # Ripple\n",
    "    \"ADA\",  # Cardano\n",
    "    \"SOL\",  # Solana\n",
    "    \"DOGE\", # Dogecoin\n",
    "    \"TRX\",  # TRON\n",
    "    \"AVAX\", # Avalanche\n",
    "    \"LINK\", # Chainlink\n",
    "]\n",
    "\n",
    "from itertools import combinations\n",
    "crypto_pairs = list(combinations(cryptos, 2))\n",
    "\n",
    "# Define the paths\n",
    "input_path = \"../data/processed\"\n",
    "metrics_path = \"../data/lag_metrics\"\n",
    "output_path = \"../data/results\"\n",
    "\n",
    "# Run the parallelized strategy execution\n",
    "process_all_crypto_pairs(\n",
    "    crypto_pairs=crypto_pairs,\n",
    "    metrics_path=metrics_path,\n",
    "    strategy_function=basic_strategy_new,  \n",
    "    input_path=input_path,\n",
    "    output_path=output_path,\n",
    ")\n",
    "\n",
    "print(\"All strategies executed successfully!\")"
   ]
  }
 ],
 "metadata": {
  "kernelspec": {
   "display_name": "finance",
   "language": "python",
   "name": "python3"
  },
  "language_info": {
   "codemirror_mode": {
    "name": "ipython",
    "version": 3
   },
   "file_extension": ".py",
   "mimetype": "text/x-python",
   "name": "python",
   "nbconvert_exporter": "python",
   "pygments_lexer": "ipython3",
   "version": "3.9.18"
  }
 },
 "nbformat": 4,
 "nbformat_minor": 2
}
